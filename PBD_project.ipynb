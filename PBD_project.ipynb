{
 "cells": [
  {
   "cell_type": "markdown",
   "metadata": {},
   "source": [
    "# <center> `Hotel booking demand`\n",
    "   GROUP MEMBERS: \n",
    "                FAYZAN WASIM L1F16BSCS0102\n",
    "    BILAL AHMAD L1F16BSCS0130\n",
    "ABDULLAH SAJJAD L1F16BSCS0113</center>"
   ]
  },
  {
   "cell_type": "markdown",
   "metadata": {},
   "source": [
    "This dataset contain information of hotel booking, We will perform exploratory data analysis to get insight from the data.  \n",
    "### We will try to answer the following Questions\n",
    "1. How Many Booking Were Cancelled?\n",
    "2. What is the booking ratio between Resort Hotel and City Hotel?\n",
    "3. What is the percentage of booking for each year?\n",
    "4. Which is the most busy month for hotel?\n",
    "5. From which country most guest come?\n",
    "6. How Long People Stay in the hotel?\n",
    "7. Which was the most booked accommodation type (Single, Couple, Family)?\n",
    "\n",
    "\n",
    "### After that we will make predictive model to predict whether the booking will be cancelled or not\n",
    "\n",
    "**We will:**\n",
    "- Perform the Feature Engineering to make new featuers\n",
    "- Perform the Data Selection to select only relevant features\n",
    "- Tranform the Data (Categorial to Numerical)\n",
    "- Split the data (Train Test Split)\n",
    "- Model the data (Fit the Data)\n",
    "- And finally Evaluate our model"
   ]
  },
  {
   "cell_type": "markdown",
   "metadata": {},
   "source": [
    "Let's Start\n",
    "<hr>"
   ]
  },
  {
   "cell_type": "markdown",
   "metadata": {},
   "source": [
    "## Packages Import"
   ]
  },
  {
   "cell_type": "code",
   "execution_count": 1,
   "metadata": {},
   "outputs": [
    {
     "ename": "ModuleNotFoundError",
     "evalue": "No module named 'pycountry'",
     "output_type": "error",
     "traceback": [
      "\u001b[1;31m---------------------------------------------------------------------------\u001b[0m",
      "\u001b[1;31mModuleNotFoundError\u001b[0m                       Traceback (most recent call last)",
      "\u001b[1;32m<ipython-input-1-6e6a35997552>\u001b[0m in \u001b[0;36m<module>\u001b[1;34m\u001b[0m\n\u001b[0;32m      5\u001b[0m \u001b[1;32mimport\u001b[0m \u001b[0mmatplotlib\u001b[0m\u001b[1;33m.\u001b[0m\u001b[0mpyplot\u001b[0m \u001b[1;32mas\u001b[0m \u001b[0mplt\u001b[0m\u001b[1;33m\u001b[0m\u001b[1;33m\u001b[0m\u001b[0m\n\u001b[0;32m      6\u001b[0m \u001b[1;32mimport\u001b[0m \u001b[0mseaborn\u001b[0m \u001b[1;32mas\u001b[0m \u001b[0msns\u001b[0m\u001b[1;33m\u001b[0m\u001b[1;33m\u001b[0m\u001b[0m\n\u001b[1;32m----> 7\u001b[1;33m \u001b[1;32mimport\u001b[0m \u001b[0mpycountry\u001b[0m \u001b[1;32mas\u001b[0m \u001b[0mpc\u001b[0m\u001b[1;33m\u001b[0m\u001b[1;33m\u001b[0m\u001b[0m\n\u001b[0m\u001b[0;32m      8\u001b[0m \u001b[1;33m\u001b[0m\u001b[0m\n\u001b[0;32m      9\u001b[0m \u001b[0mpd\u001b[0m\u001b[1;33m.\u001b[0m\u001b[0moptions\u001b[0m\u001b[1;33m.\u001b[0m\u001b[0mdisplay\u001b[0m\u001b[1;33m.\u001b[0m\u001b[0mmax_columns\u001b[0m \u001b[1;33m=\u001b[0m \u001b[1;32mNone\u001b[0m\u001b[1;33m\u001b[0m\u001b[1;33m\u001b[0m\u001b[0m\n",
      "\u001b[1;31mModuleNotFoundError\u001b[0m: No module named 'pycountry'"
     ]
    }
   ],
   "source": [
    "#!pip install pycountry\n",
    "\n",
    "import numpy as np\n",
    "import pandas as pd\n",
    "import matplotlib.pyplot as plt\n",
    "import seaborn as sns\n",
    "import pycountry as pc\n",
    "\n",
    "pd.options.display.max_columns = None"
   ]
  },
  {
   "cell_type": "code",
   "execution_count": null,
   "metadata": {},
   "outputs": [],
   "source": [
    "## Importing Data\n",
    "data = pd.read_csv('hotel_bookings.csv')"
   ]
  },
  {
   "cell_type": "code",
   "execution_count": null,
   "metadata": {
    "scrolled": true
   },
   "outputs": [],
   "source": [
    "## Show the first 5 rows of Data\n",
    "data.head()"
   ]
  },
  {
   "cell_type": "markdown",
   "metadata": {},
   "source": [
    "<hr>"
   ]
  },
  {
   "cell_type": "markdown",
   "metadata": {},
   "source": [
    "## Data Pre-Processing"
   ]
  },
  {
   "cell_type": "code",
   "execution_count": null,
   "metadata": {},
   "outputs": [],
   "source": [
    "## Copy the dataset\n",
    "df = data.copy()"
   ]
  },
  {
   "cell_type": "markdown",
   "metadata": {},
   "source": [
    "### `1. Dealing with Missing Values`"
   ]
  },
  {
   "cell_type": "code",
   "execution_count": null,
   "metadata": {},
   "outputs": [],
   "source": [
    "## Find the missing value, show the total null values for each column and sort it in descending order\n",
    "df.isnull().sum().sort_values(ascending=False)[:10]"
   ]
  },
  {
   "cell_type": "code",
   "execution_count": null,
   "metadata": {},
   "outputs": [],
   "source": [
    "## Drop Rows where there is no adult, baby and child\n",
    "df = df.drop(df[(df.adults+df.babies+df.children)==0].index)\n",
    "\n",
    "\n",
    "## If no id of agent or company is null, just replace it with 0\n",
    "df[['agent','company']] = df[['agent','company']].fillna(0.0)\n",
    "\n",
    "\n",
    "## For the missing values in the country column, replace it with mode (value that appears most often)\n",
    "df['country'].fillna(data.country.mode().to_string(), inplace=True)\n",
    "\n",
    "\n",
    "## for missing children value, replace it with rounded mean value\n",
    "df['children'].fillna(round(data.children.mean()), inplace=True)"
   ]
  },
  {
   "cell_type": "markdown",
   "metadata": {},
   "source": [
    "### `2. Converting Datatype`"
   ]
  },
  {
   "cell_type": "code",
   "execution_count": null,
   "metadata": {},
   "outputs": [],
   "source": [
    "## convert datatype of these columns from float to integer\n",
    "df[['children', 'company', 'agent']] = df[['children', 'company', 'agent']].astype('int64')"
   ]
  },
  {
   "cell_type": "markdown",
   "metadata": {},
   "source": [
    "<hr>"
   ]
  },
  {
   "cell_type": "markdown",
   "metadata": {},
   "source": [
    "## Exploratory Data Analysis"
   ]
  },
  {
   "cell_type": "code",
   "execution_count": null,
   "metadata": {},
   "outputs": [],
   "source": [
    "def plot(x, y, x_label=None,y_label=None, title=None, figsize=(7,5), type='bar'):\n",
    "    \n",
    "    '''\n",
    "    INPUT:\n",
    "        x:        Array containing values for x-axis\n",
    "        y:        Array containing values for y-axis\n",
    "        x_lable:  String value for x-axis label\n",
    "        y_lable:  String value for y-axis label\n",
    "        title:    String value for plot title\n",
    "        figsize:  tuple value, for figure size\n",
    "        type:     type of plot (default is bar plot)\n",
    "        \n",
    "    OUTPUT:\n",
    "        Display the plot\n",
    "    '''\n",
    "    \n",
    "    sns.set_style('darkgrid')\n",
    "    \n",
    "    fig, ax = plt.subplots(figsize=figsize)\n",
    "    \n",
    "    if x_label != None:\n",
    "        ax.set_xlabel(x_label)\n",
    "    \n",
    "    if y_label != None:\n",
    "        ax.set_ylabel(y_label)\n",
    "        \n",
    "    if title != None:\n",
    "        ax.set_title(title)\n",
    "    \n",
    "    if type == 'bar':\n",
    "        sns.barplot(x,y, ax = ax)\n",
    "    elif type == 'line':\n",
    "        sns.lineplot(x,y, ax = ax)\n",
    "        \n",
    "    \n",
    "    plt.show()"
   ]
  },
  {
   "cell_type": "code",
   "execution_count": null,
   "metadata": {},
   "outputs": [],
   "source": [
    "def get_count(series, limit=None):\n",
    "    \n",
    "    '''\n",
    "    INPUT:\n",
    "        series: Pandas Series (Single Column from DataFrame)\n",
    "        limit:  If value given, limit the output value to first limit samples.\n",
    "    OUTPUT:\n",
    "        x = Unique values\n",
    "        y = Count of unique values\n",
    "    '''\n",
    "    \n",
    "    if limit != None:\n",
    "        series = series.value_counts()[:limit]\n",
    "    else:\n",
    "        series = series.value_counts()\n",
    "    \n",
    "    x = series.index\n",
    "    y = series/series.sum()*100\n",
    "    \n",
    "    return x.values,y.values"
   ]
  },
  {
   "cell_type": "markdown",
   "metadata": {},
   "source": [
    "### Let's try to answer our questions"
   ]
  },
  {
   "cell_type": "markdown",
   "metadata": {},
   "source": [
    "### `1. How Many Booking Were Cancelled`"
   ]
  },
  {
   "cell_type": "code",
   "execution_count": null,
   "metadata": {},
   "outputs": [],
   "source": [
    "x,y = get_count(df['is_canceled'])\n",
    "plot(x,y, x_label='Booking Cancelled (No = 0, Yes = 1)', y_label='Booking (%)')"
   ]
  },
  {
   "cell_type": "markdown",
   "metadata": {},
   "source": [
    "#### `For further analysis, Select only those booking which did not get cancelled.`"
   ]
  },
  {
   "cell_type": "code",
   "execution_count": null,
   "metadata": {},
   "outputs": [],
   "source": [
    "df_not_canceled = df[df['is_canceled'] == 0]"
   ]
  },
  {
   "cell_type": "markdown",
   "metadata": {},
   "source": [
    "### `2. What is the booking ratio between Resort Hotel and City Hotel?`"
   ]
  },
  {
   "cell_type": "code",
   "execution_count": null,
   "metadata": {},
   "outputs": [],
   "source": [
    "x,y = get_count(df_not_canceled['hotel'])\n",
    "plot(x,y, x_label='Hotels', y_label='Total Booking (%)', title='Hotel comparison')"
   ]
  },
  {
   "cell_type": "markdown",
   "metadata": {},
   "source": [
    "### `3. What is the percentage of booking for each year?`"
   ]
  },
  {
   "cell_type": "code",
   "execution_count": null,
   "metadata": {},
   "outputs": [],
   "source": [
    "x,y = get_count(df_not_canceled['arrival_date_year'])\n",
    "plot(x,y, x_label='Year', y_label='Total Booking (%)', title='Year comparison')"
   ]
  },
  {
   "cell_type": "markdown",
   "metadata": {},
   "source": [
    "#### `Let's separte it by hotel`"
   ]
  },
  {
   "cell_type": "code",
   "execution_count": null,
   "metadata": {},
   "outputs": [],
   "source": [
    "plt.subplots(figsize=(7,5))\n",
    "sns.countplot(x='arrival_date_year', hue='hotel',  data=df_not_canceled);"
   ]
  },
  {
   "cell_type": "markdown",
   "metadata": {},
   "source": [
    "### `4. Which is the most busy month for hotel?`"
   ]
  },
  {
   "cell_type": "code",
   "execution_count": null,
   "metadata": {},
   "outputs": [],
   "source": [
    "new_order = ['January', 'February', 'March', 'April', 'May', 'June', 'July', 'August', 'September', 'October', 'November', 'December']\n",
    "\n",
    "sorted_months = df_not_canceled['arrival_date_month'].value_counts().reindex(new_order)\n",
    "\n",
    "x = sorted_months.index\n",
    "y = sorted_months/sorted_months.sum()*100\n",
    "\n",
    "\n",
    "#sns.lineplot(x, y.values)\n",
    "plot(x, y.values, x_label='Months', y_label='Booking (%)', title='Booking Trend (Monthly)', type='line', figsize=(18,6))"
   ]
  },
  {
   "cell_type": "code",
   "execution_count": null,
   "metadata": {},
   "outputs": [],
   "source": [
    "## Order of months\n",
    "new_order = ['January', 'February', 'March', 'April', 'May', 'June', 'July', 'August', 'September', 'October', 'November', 'December']\n",
    "\n",
    "\n",
    "## Select only City Hotel\n",
    "sorted_months = df_not_canceled.loc[df.hotel=='City Hotel' ,'arrival_date_month'].value_counts().reindex(new_order)\n",
    "\n",
    "x1 = sorted_months.index\n",
    "y1 = sorted_months/sorted_months.sum()*100\n",
    "\n",
    "\n",
    "\n",
    "## Select only Resort Hotel\n",
    "sorted_months = df_not_canceled.loc[df.hotel=='Resort Hotel' ,'arrival_date_month'].value_counts().reindex(new_order)\n",
    "\n",
    "x2 = sorted_months.index\n",
    "y2 = sorted_months/sorted_months.sum()*100\n",
    "\n",
    "\n",
    "\n",
    "\n",
    "\n",
    "\n",
    "## Draw the line plot\n",
    "\n",
    "fig, ax = plt.subplots(figsize=(18,6))\n",
    "\n",
    "ax.set_xlabel('Months')\n",
    "ax.set_ylabel('Booking (%)')\n",
    "ax.set_title('Booking Trend (Monthly)')\n",
    "\n",
    "\n",
    "sns.lineplot(x1, y1.values, label='City Hotel')\n",
    "sns.lineplot(x1, y2.values, label='Resort Hotel')\n",
    "\n",
    "plt.show()"
   ]
  },
  {
   "cell_type": "markdown",
   "metadata": {},
   "source": [
    "### `5. From which country most guest come? `"
   ]
  },
  {
   "cell_type": "markdown",
   "metadata": {},
   "source": [
    "`**pycountry** is very useful python package.`  \n",
    "`We will use this package to get country names from country codes`\n",
    "\n",
    "- `https://github.com/flyingcircusio/pycountry`\n",
    "- `https://pypi.org/project/pycountry/`"
   ]
  },
  {
   "cell_type": "code",
   "execution_count": null,
   "metadata": {},
   "outputs": [],
   "source": [
    "import pycountry as pc\n",
    "\n",
    "x,y = get_count(df_not_canceled['country'], limit=10)\n",
    "\n",
    "## For each country code select the country name \n",
    "country_name = [pc.countries.get(alpha_3=name).name for name in x]\n",
    "\n",
    "plot(country_name,y, x_label='Countries', y_label='Total Booking (%)', title='country-wise comparison', figsize=(15,7))"
   ]
  },
  {
   "cell_type": "markdown",
   "metadata": {},
   "source": [
    "### `6. How Long People Stay in the hotel?`"
   ]
  },
  {
   "cell_type": "code",
   "execution_count": null,
   "metadata": {},
   "outputs": [],
   "source": [
    "total_nights = df_not_canceled['stays_in_weekend_nights']+ df_not_canceled['stays_in_week_nights']\n",
    "x,y = get_count(total_nights, limit=10)\n",
    "\n",
    "plot(x,y, x_label='Number of Nights', y_label='Booking Percentage (%)', title='Night Stay Duration (Top 10)', figsize=(10,5))"
   ]
  },
  {
   "cell_type": "code",
   "execution_count": null,
   "metadata": {},
   "outputs": [],
   "source": [
    "df_not_canceled.loc[:,'total_nights'] = df_not_canceled['stays_in_weekend_nights']+ df_not_canceled['stays_in_week_nights']\n",
    "\n",
    "fig, ax = plt.subplots(figsize=(12,6))\n",
    "ax.set_xlabel('No of Nights')\n",
    "ax.set_ylabel('No of Nights')\n",
    "ax.set_title('Hotel wise night stay duration (Top 10)')\n",
    "sns.countplot(x='total_nights', hue='hotel', data=df_not_canceled,\n",
    "              order = df_not_canceled.total_nights.value_counts().iloc[:10].index, ax=ax);"
   ]
  },
  {
   "cell_type": "markdown",
   "metadata": {},
   "source": [
    "### `7.Which was the most booked accommodation type (Single, Couple, Family)?`"
   ]
  },
  {
   "cell_type": "code",
   "execution_count": null,
   "metadata": {},
   "outputs": [],
   "source": [
    "## Select single, couple, multiple adults and family\n",
    "single   = df_not_canceled[(df_not_canceled.adults==1) & (df_not_canceled.children==0) & (df_not_canceled.babies==0)]\n",
    "couple   = df_not_canceled[(df_not_canceled.adults==2) & (df_not_canceled.children==0) & (df_not_canceled.babies==0)]\n",
    "#n_adults = df_not_canceled[(df_not_canceled.adults>2) & (df_not_canceled.children==0) & (df_not_canceled.babies==0)]\n",
    "family   = df_not_canceled[df_not_canceled.adults + df_not_canceled.children + df_not_canceled.babies > 2]\n",
    "\n",
    "\n",
    "## Make the list of Category names, and their total percentage\n",
    "names = ['Single', 'Couple (No Children)', 'Family / Friends']\n",
    "count = [single.shape[0],couple.shape[0], family.shape[0]]\n",
    "count_percent = [x/df_not_canceled.shape[0]*100 for x in count]\n",
    "\n",
    "\n",
    "## Draw the curve\n",
    "plot(names,count_percent,  y_label='Booking (%)', title='Accommodation Type', figsize=(10,7))"
   ]
  },
  {
   "cell_type": "markdown",
   "metadata": {},
   "source": [
    "<hr>"
   ]
  },
  {
   "cell_type": "markdown",
   "metadata": {},
   "source": [
    "## Feature Selection and Feature Engineering"
   ]
  },
  {
   "cell_type": "code",
   "execution_count": null,
   "metadata": {},
   "outputs": [],
   "source": [
    "## Copy the dataframe\n",
    "df_subset = df.copy()"
   ]
  },
  {
   "cell_type": "code",
   "execution_count": null,
   "metadata": {},
   "outputs": [],
   "source": [
    "## Remove reservation_status column\n",
    "## because it tells us if booking was cancelled \n",
    "df_subset = df_subset.drop(['reservation_status'], axis=1)"
   ]
  },
  {
   "cell_type": "code",
   "execution_count": null,
   "metadata": {},
   "outputs": [],
   "source": [
    "## Make the new column which contain 1 if guest received the same room which was reserved otherwise 0\n",
    "df_subset['Room'] = 0\n",
    "df_subset.loc[ df_subset['reserved_room_type'] == df_subset['assigned_room_type'] , 'Room'] = 1\n",
    "\n",
    "\n",
    "## Make the new column which contain 1 if the guest has cancelled more booking in the past\n",
    "## than the number of booking he did not cancel, otherwise 0\n",
    "\n",
    "df_subset['net_cancelled'] = 0\n",
    "df_subset.loc[ df_subset['previous_cancellations'] > df_subset['previous_bookings_not_canceled'] , 'net_cancelled'] = 1"
   ]
  },
  {
   "cell_type": "code",
   "execution_count": null,
   "metadata": {},
   "outputs": [],
   "source": [
    "## Remove the less important features\n",
    "df_subset = df_subset.drop(['arrival_date_year','arrival_date_week_number','arrival_date_day_of_month','arrival_date_month','assigned_room_type','reserved_room_type','reservation_status_date','previous_cancellations','previous_bookings_not_canceled'],axis=1)"
   ]
  },
  {
   "cell_type": "code",
   "execution_count": null,
   "metadata": {},
   "outputs": [],
   "source": [
    "## Plot the heatmap to see correlation with columns\n",
    "fig, ax = plt.subplots(figsize=(22,15))\n",
    "sns.heatmap(df_subset.corr(), annot=True, ax=ax);"
   ]
  },
  {
   "cell_type": "markdown",
   "metadata": {},
   "source": [
    "<hr>"
   ]
  },
  {
   "cell_type": "markdown",
   "metadata": {},
   "source": [
    "## Modeling"
   ]
  },
  {
   "cell_type": "markdown",
   "metadata": {},
   "source": [
    "### 1. `Converting Categorical variables to Numerical`"
   ]
  },
  {
   "cell_type": "code",
   "execution_count": null,
   "metadata": {},
   "outputs": [],
   "source": [
    "def transform(dataframe):\n",
    "    \n",
    "    \n",
    "    ## Import LabelEncoder from sklearn\n",
    "    from sklearn.preprocessing import LabelEncoder\n",
    "    \n",
    "    le = LabelEncoder()\n",
    "    \n",
    "    \n",
    "    ## Select all categorcial features\n",
    "    categorical_features = list(dataframe.columns[dataframe.dtypes == object])\n",
    "    \n",
    "    \n",
    "    ## Apply Label Encoding on all categorical features\n",
    "    return dataframe[categorical_features].apply(lambda x: le.fit_transform(x))\n",
    "\n",
    "df = transform(df)"
   ]
  },
  {
   "cell_type": "markdown",
   "metadata": {},
   "source": [
    "### `2.Train Test Split`"
   ]
  },
  {
   "cell_type": "code",
   "execution_count": null,
   "metadata": {},
   "outputs": [],
   "source": [
    "def data_split(df, label):\n",
    "    \n",
    "    from sklearn.model_selection import train_test_split\n",
    "\n",
    "    X = df.drop(label, axis=1)\n",
    "    Y = df[label]\n",
    "\n",
    "    x_train, x_test, y_train, y_test = train_test_split(X,Y,random_state=0)\n",
    "    \n",
    "    return x_train, x_test, y_train, y_test\n",
    "\n",
    "\n",
    "\n",
    "x_train, x_test, y_train, y_test = data_split(df_subset, 'is_canceled')"
   ]
  },
  {
   "cell_type": "markdown",
   "metadata": {},
   "source": [
    "### `Machine Learning Model (Decision Tree)`"
   ]
  },
  {
   "cell_type": "code",
   "execution_count": null,
   "metadata": {},
   "outputs": [],
   "source": [
    "def train(x_train, y_train):\n",
    "    from sklearn.tree import DecisionTreeClassifier\n",
    "\n",
    "    clf = DecisionTreeClassifier(random_state=0)\n",
    "    clf.fit(x_train,y_train)\n",
    "    \n",
    "    return clf\n",
    "\n",
    "\n",
    "clf = train(x_train, y_train)"
   ]
  },
  {
   "cell_type": "markdown",
   "metadata": {},
   "source": [
    "### `4.Evaluatation of the Model`"
   ]
  },
  {
   "cell_type": "code",
   "execution_count": null,
   "metadata": {},
   "outputs": [],
   "source": [
    "def Score(clf,x_train,y_train,x_test,y_test):\n",
    "    train_score = clf.score(x_train,y_train)\n",
    "    test_score = clf.score(x_test,y_test)\n",
    "\n",
    "    print(\"========================================\")\n",
    "    print(f'Training Accuracy of our model is: {train_score}')\n",
    "    print(f'Test Accuracy of our model is: {test_score}')\n",
    "    print(\"========================================\")\n",
    "    \n",
    "    \n",
    "Score(clf,x_train,y_train,x_train,y_train)"
   ]
  },
  {
   "cell_type": "code",
   "execution_count": null,
   "metadata": {},
   "outputs": [],
   "source": [
    "## Getting Prediciton of 10th record of x_train\n",
    "prediction = clf.predict(x_train.iloc[10].values.reshape(1,-1))\n",
    "\n",
    "## Actual Value of 10th record of x_train from y_train\n",
    "actual_value = y_train.iloc[10]\n",
    "\n",
    "print(f'Predicted Value \\t: {prediction[0]}')\n",
    "print(f'Actual Value\\t\\t: {actual_value}')"
   ]
  },
  {
   "cell_type": "markdown",
   "metadata": {},
   "source": [
    "---------------"
   ]
  },
  {
   "cell_type": "code",
   "execution_count": null,
   "metadata": {},
   "outputs": [],
   "source": []
  }
 ],
 "metadata": {
  "kernelspec": {
   "display_name": "Python 3",
   "language": "python",
   "name": "python3"
  },
  "language_info": {
   "codemirror_mode": {
    "name": "ipython",
    "version": 3
   },
   "file_extension": ".py",
   "mimetype": "text/x-python",
   "name": "python",
   "nbconvert_exporter": "python",
   "pygments_lexer": "ipython3",
   "version": "3.7.6"
  }
 },
 "nbformat": 4,
 "nbformat_minor": 2
}
